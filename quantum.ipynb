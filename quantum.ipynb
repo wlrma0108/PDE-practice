{
 "cells": [
  {
   "cell_type": "code",
   "execution_count": null,
   "id": "2826b78b",
   "metadata": {},
   "outputs": [],
   "source": [
    "import cv2\n",
    "import numpy as np\n",
    "impo\n",
    "from scipy.fftpack import dct, idct\n",
    "from pathlib import Path\n",
    "import os, sys\n"
   ]
  },
  {
   "cell_type": "code",
   "execution_count": null,
   "id": "eec9fa88",
   "metadata": {},
   "outputs": [
    {
     "name": "stdout",
     "output_type": "stream",
     "text": [
      "이미지 못 읽음\n"
     ]
    }
   ],
   "source": [
    "def dct2(b):\n",
    "    return dct(dct(b.T, norm='ortho').T, norm='ortho')\n",
    "\n",
    "def idct2(b):\n",
    "    return idct(idct(b.T, norm='ortho').T, norm='ortho')\n",
    "\n",
    "def psnr(a, b):\n",
    "    mse = np.mean((a.astype(np.float32) - b.astype(np.float32))**2)\n",
    "    return 99 if mse == 0 else 10*np.log10(255*255/mse)\n",
    "\n",
    "def show(name, img):\n",
    "    cv2.imshow(name, img)\n",
    "    cv2.waitKey(0)\n",
    "\n",
    "# JPEG Table (교재 Table 9‑1)\n",
    "QY = np.array([\n",
    " [16,11,10,16,24,40,51,61],\n",
    " [12,12,14,19,26,58,60,55],\n",
    " [14,13,16,24,40,57,69,56],\n",
    " [14,17,22,29,51,87,80,62],\n",
    " [18,22,37,56,68,109,103,77],\n",
    " [24,35,55,64,81,104,113,92],\n",
    " [49,64,78,87,103,121,120,101],\n",
    " [72,92,95,98,112,100,103,99]\n",
    "], dtype=np.float32)\n",
    "\n",
    "def main(img_path='Lena.bmp'):\n",
    "    img = cv2.imread(img_path, cv2.IMREAD_GRAYSCALE)\n",
    "    if img is None:\n",
    "        print('이미지 못 읽음'); return\n",
    "\n",
    "    H, W = img.shape\n",
    "    # 8의 배수로 패딩 (그냥 0 패딩)\n",
    "    H2, W2 = (H+7)//8*8, (W+7)//8*8\n",
    "    pad = np.zeros((H2, W2), np.uint8)\n",
    "    pad[:H, :W] = img\n",
    "    img = pad\n",
    "    H, W = H2, W2\n",
    "\n",
    "    #  블록 함수 \n",
    "    def run_block(fn):\n",
    "        out = np.zeros_like(img, np.float32)\n",
    "        for y in range(0, H, 8):\n",
    "            for x in range(0, W, 8):\n",
    "                blk = img[y:y+8, x:x+8].astype(np.float32) - 128\n",
    "                out[y:y+8, x:x+8] = fn(blk) + 128\n",
    "        return np.clip(out, 0, 255).astype(np.uint8)\n",
    "\n",
    "    for n in range(2, 7):\n",
    "        def keep_n(b):\n",
    "            D = dct2(b)\n",
    "            D[n:, :] = 0\n",
    "            D[:, n:] = 0\n",
    "            return idct2(D)\n",
    "        recon = run_block(keep_n)\n",
    "        cv2.imwrite(f'recon_{n}x{n}.png', recon)\n",
    "        print(f'{n}×{n} PSNR = {psnr(img, recon):.2f} dB')\n",
    "\n",
    "    # JPEG 양자화 테스트\n",
    "    def jpeg_like(b):\n",
    "        D = dct2(b)\n",
    "        Q = np.round(D / QY)   \n",
    "        Dq = Q * QY           \n",
    "        return idct2(Dq)\n",
    "    jpeg_recon = run_block(jpeg_like)\n",
    "    cv2.imwrite('jpeg_recon.png', jpeg_recon)\n",
    "    print(f'JPEG‑table PSNR = {psnr(img, jpeg_recon):.2f} dB')\n",
    "    show('orig', img); show('jpeg', jpeg_recon)\n",
    "\n",
    "if __name__ == '__main__':\n",
    "    if len(sys.argv)==2:\n",
    "        main(sys.argv[1])\n",
    "    else:\n",
    "        main()\n"
   ]
  }
 ],
 "metadata": {
  "kernelspec": {
   "display_name": "Python 3",
   "language": "python",
   "name": "python3"
  },
  "language_info": {
   "codemirror_mode": {
    "name": "ipython",
    "version": 3
   },
   "file_extension": ".py",
   "mimetype": "text/x-python",
   "name": "python",
   "nbconvert_exporter": "python",
   "pygments_lexer": "ipython3",
   "version": "3.13.2"
  }
 },
 "nbformat": 4,
 "nbformat_minor": 5
}
